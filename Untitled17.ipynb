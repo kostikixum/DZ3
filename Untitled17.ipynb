{
  "nbformat": 4,
  "nbformat_minor": 0,
  "metadata": {
    "colab": {
      "provenance": [],
      "authorship_tag": "ABX9TyNGI3792WB4KHchx78BcvHa",
      "include_colab_link": true
    },
    "kernelspec": {
      "name": "python3",
      "display_name": "Python 3"
    },
    "language_info": {
      "name": "python"
    }
  },
  "cells": [
    {
      "cell_type": "markdown",
      "metadata": {
        "id": "view-in-github",
        "colab_type": "text"
      },
      "source": [
        "<a href=\"https://colab.research.google.com/github/kostikixum/DZ3/blob/main/Untitled17.ipynb\" target=\"_parent\"><img src=\"https://colab.research.google.com/assets/colab-badge.svg\" alt=\"Open In Colab\"/></a>"
      ]
    },
    {
      "cell_type": "code",
      "execution_count": 3,
      "metadata": {
        "id": "nmYIe_0CyDsv"
      },
      "outputs": [],
      "source": [
        "import pandas as pd\n",
        "import numpy as np\n",
        "\n",
        ""
      ]
    },
    {
      "cell_type": "markdown",
      "source": [
        "##Задача\n",
        "Провести дисперсионный анализ для определения того, есть ли различия среднего роста среди взрослых футболистов, хоккеистов и штангистов. Даны значения роста в трех группах случайно выбранных спортсменов: Футболисты: 173, 175, 180, 178, 177, 185, 183, 182. Хоккеисты: 177, 179, 180, 188, 177, 172, 171, 184, 180. Штангисты: 172, 173, 169, 177, 166, 180, 178, 177, 172, 166, 170.\n",
        "## Решение"
      ],
      "metadata": {
        "id": "7y2UM1ciyJ3v"
      }
    },
    {
      "cell_type": "markdown",
      "source": [
        "n- количство спортсменов в выборке k = количество груп"
      ],
      "metadata": {
        "id": "iTsi4EB31fY5"
      }
    },
    {
      "cell_type": "code",
      "source": [
        "n1 = 8##колл футболистов\n",
        "n2 = 9##колл хоккеистов\n",
        "n3 = 11##колл штангистов\n",
        "n = n1 + n2 + n3 ##всего спортсменов\n",
        "k = 3## количество групп выборки\n",
        "n,k"
      ],
      "metadata": {
        "colab": {
          "base_uri": "https://localhost:8080/"
        },
        "id": "TzlONMbG1eMC",
        "outputId": "d8e596e0-d76d-4924-e399-b15eaf9a1340"
      },
      "execution_count": 42,
      "outputs": [
        {
          "output_type": "execute_result",
          "data": {
            "text/plain": [
              "(28, 3)"
            ]
          },
          "metadata": {},
          "execution_count": 42
        }
      ]
    },
    {
      "cell_type": "markdown",
      "source": [
        "Рост футболистов:"
      ],
      "metadata": {
        "id": "nSpYGzCHyZfg"
      }
    },
    {
      "cell_type": "code",
      "source": [
        "y1 = np.array([173, 175, 180, 178, 177, 185, 183, 182], dtype=np.float64)##Рост футболистов\n",
        "y2 = np.array([177, 179, 180, 188, 177, 172, 171, 184, 180], dtype=np.float64)##Рост хоккеистов\n",
        "y3 = np.array([172, 173, 169, 177, 166, 180, 178, 177, 172, 166, 170], dtype=np.float64)##Рост штангистов"
      ],
      "metadata": {
        "id": "Htl6rE7jybFT"
      },
      "execution_count": 38,
      "outputs": []
    },
    {
      "cell_type": "markdown",
      "source": [
        "Найдем средний рост для каждой профессии"
      ],
      "metadata": {
        "id": "NBiSF-Lzy3hi"
      }
    },
    {
      "cell_type": "code",
      "source": [
        "y1_mean = np.mean(y1)##Узнаем средний рост футболиста\n",
        "y2_mean = np.mean(y2)##Узнаем средний рост хокеиста\n",
        "y3_mean = np.mean(y3)##Узнаем средний рост штангиста\n",
        "y_all = np.concatenate([y1, y2, y3])##Узнаем средний рост всех спортсменов\n",
        "print(f'средний рост хокеиста {y2_mean:.2f}')\n",
        "print(f'средний рост футболиста {y1_mean:.2f}')\n",
        "print(f'средний рост штангиста {y3_mean:.2f}')\n",
        "print(f'средний рост всех спортсменов {y_mean:.2f}')\n",
        "\n"
      ],
      "metadata": {
        "colab": {
          "base_uri": "https://localhost:8080/"
        },
        "id": "ByQIPoRWy5df",
        "outputId": "b3ba3f64-a081-4c31-d578-b2549d58e850"
      },
      "execution_count": 41,
      "outputs": [
        {
          "output_type": "stream",
          "name": "stdout",
          "text": [
            "средний рост хокеиста 178.67\n",
            "средний рост футболиста 179.12\n",
            "средний рост штангиста 172.73\n",
            "средний рост всех спортсменов 176.46\n"
          ]
        }
      ]
    },
    {
      "cell_type": "code",
      "source": [
        "ss = np.sum((y_all - y_mean)**2) ##cумма квадратов отклонений наблюдений от общего среднего\n",
        "ss_f = ((y1_mean - y_mean)**2) * n1 + ((y2_mean - y_mean)**2) * n2 + ((y3_mean - y_mean)**2) * n3 ##сумма квадратов отклонений средних групповых значений от общего среднего:\n",
        "ss_residual = np.sum((y1 - y1_mean)**2) + np.sum((y2 - y2_mean)**2) + np.sum((y3 - y3_mean)**2) ##остаточная сумму квадратов отклонений:\n",
        "Sig2_general = ss/(n - 1) ##SSобщ – оценка общей дисперсии\n",
        "Sig2_residual = ss_residual / (n - k)##SSрес ооценка остаточной дисперсии\n",
        "Sig2_f = ss_f/(k - 1) ##SSфакт. – оценка межгрупповой дисперсии\n",
        "F_h =Sig2_f / Sig2_residual\n",
        "print(f'F(h)= {F_h:.2f}')"
      ],
      "metadata": {
        "colab": {
          "base_uri": "https://localhost:8080/"
        },
        "id": "rwF5X0Dx0t1D",
        "outputId": "12d046e1-8318-425b-fe9e-349373cf4846"
      },
      "execution_count": 35,
      "outputs": [
        {
          "output_type": "stream",
          "name": "stdout",
          "text": [
            "F(h)= 5.50\n"
          ]
        }
      ]
    },
    {
      "cell_type": "markdown",
      "source": [
        "Через формулу FРАСПОБР(вероятность; степени_свободы1; степени_свободы2) в эксле найдем Fkr для степени_свободы1=к-1=3-1=2 и степени_свободы2=n-3=28-3=25 Fkr=3,385189961"
      ],
      "metadata": {
        "id": "xXJiWD784maD"
      }
    },
    {
      "cell_type": "markdown",
      "source": [
        "Так как Fh>Fkr Гипотиза Н0 неверна, различия в росте статистически значимо"
      ],
      "metadata": {
        "id": "OGoZUgk05exx"
      }
    }
  ]
}