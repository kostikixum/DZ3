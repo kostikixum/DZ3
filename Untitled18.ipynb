{
  "nbformat": 4,
  "nbformat_minor": 0,
  "metadata": {
    "colab": {
      "provenance": [],
      "authorship_tag": "ABX9TyOPDHxEpkFxCTVjFXm4gAQU",
      "include_colab_link": true
    },
    "kernelspec": {
      "name": "python3",
      "display_name": "Python 3"
    },
    "language_info": {
      "name": "python"
    }
  },
  "cells": [
    {
      "cell_type": "markdown",
      "metadata": {
        "id": "view-in-github",
        "colab_type": "text"
      },
      "source": [
        "<a href=\"https://colab.research.google.com/github/kostikixum/DZ3/blob/main/Untitled18.ipynb\" target=\"_parent\"><img src=\"https://colab.research.google.com/assets/colab-badge.svg\" alt=\"Open In Colab\"/></a>"
      ]
    },
    {
      "cell_type": "markdown",
      "source": [
        "##Задача 1\n",
        "Вы провели эксперимент c упрощением формы заказа в магазине Утконос и получили результаты по метрике конверсий в покупку. Выберите метод оценки и оцените есть ли стат.значимые различия между конверсиями в двух группах при alpha = 5%. Дайте краткие рекомендации команде .Результаты: 1)Число юзеров в группах , которые заходили на сайт в период эксперимента: n1 = 15550 и n2 = 15550 . 2) Число юзеров в группах , которые совершили хотя бы одну покупку за период эксперимента: n1 = 164 и n2 = 228 3) Конверсии : conv1 = 1.05% conv2 = 1.47% ."
      ],
      "metadata": {
        "id": "wGLX0lLDSdM2"
      }
    },
    {
      "cell_type": "code",
      "source": [
        "import numpy as np\n",
        "import statsmodels.api as sm\n",
        "from statsmodels.stats.proportion import proportions_ztest"
      ],
      "metadata": {
        "id": "FzfV94NQSARg"
      },
      "execution_count": 1,
      "outputs": []
    },
    {
      "cell_type": "code",
      "execution_count": 2,
      "metadata": {
        "colab": {
          "base_uri": "https://localhost:8080/"
        },
        "id": "mvEc7RY9R98-",
        "outputId": "250316e2-a2f5-44ff-8d1d-9df9288a5242"
      },
      "outputs": [
        {
          "output_type": "stream",
          "name": "stdout",
          "text": [
            "Z-статистика: -3.308052057460868\n",
            "p-значение: 0.0009394734443034866\n",
            "Статистически значимые различия обнаружены. Рекомендации команде:\n",
            "Рассмотрите возможность улучшения или отката изменений формы заказа.\n"
          ]
        }
      ],
      "source": [
        "# Ваши данные\n",
        "n1 = 15550\n",
        "n2 = 15550\n",
        "\n",
        "conv1 = 0.0105 # 1.05%\n",
        "conv2 = 0.0147 # 1.47%\n",
        "\n",
        "# Количество пользователей, совершивших покупку\n",
        "purchase1 = 164\n",
        "purchase2 = 228\n",
        "\n",
        "# Преобразование конверсий в числа успехов\n",
        "successes1 = int(n1 * conv1)\n",
        "successes2 = int(n2 * conv2)\n",
        "\n",
        "# Z-тест для разности пропорций\n",
        "count = np.array([successes1, successes2])\n",
        "nobs = np.array([n1, n2])\n",
        "\n",
        "stat, pval = proportions_ztest(count, nobs)\n",
        "\n",
        "# Вывод результатов\n",
        "print(f'Z-статистика: {stat}')\n",
        "print(f'p-значение: {pval}')\n",
        "\n",
        "# Проверка статистической значимости при alpha = 0.05\n",
        "alpha = 0.05\n",
        "if pval < alpha:\n",
        "    print(\"Статистически значимые различия обнаружены. Рекомендации команде:\")\n",
        "    print(\"Рассмотрите возможность улучшения или отката изменений формы заказа.\")\n",
        "else:\n",
        "    print(\"Статистически значимых различий не обнаружено. Можно считать результаты эксперимента неоднозначными.\")"
      ]
    },
    {
      "cell_type": "markdown",
      "source": [
        "##Задача 2\n",
        " Сравниваем метрику конверсия в покупку. Размер выборки - 10000 элементов в каждой группе . Какой статистический критерий тут лучше всего подойдёт и почему ?\n",
        "## Ответ\n",
        "Так как мы используем категориальные данные, есть конверсия или нет , и у нас довольно большая выбрка я бы выбрал критеий Хи квадрата. Так же он легок в интерепретации.\n"
      ],
      "metadata": {
        "id": "eRmBpLmFSk7m"
      }
    }
  ]
}