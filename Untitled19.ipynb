{
  "nbformat": 4,
  "nbformat_minor": 0,
  "metadata": {
    "colab": {
      "provenance": [],
      "authorship_tag": "ABX9TyOlkn3xxJ05NnV3tDrCjYJA",
      "include_colab_link": true
    },
    "kernelspec": {
      "name": "python3",
      "display_name": "Python 3"
    },
    "language_info": {
      "name": "python"
    }
  },
  "cells": [
    {
      "cell_type": "markdown",
      "metadata": {
        "id": "view-in-github",
        "colab_type": "text"
      },
      "source": [
        "<a href=\"https://colab.research.google.com/github/kostikixum/DZ3/blob/main/Untitled19.ipynb\" target=\"_parent\"><img src=\"https://colab.research.google.com/assets/colab-badge.svg\" alt=\"Open In Colab\"/></a>"
      ]
    },
    {
      "cell_type": "markdown",
      "source": [
        "##Задача 1\n",
        "Продакт на главной mail.ru решил протестировать в рекомендательной ленте контента вместо карточек со статьями видеоплеер с короткими видео. Нынешний таймспент на юзера в день в среднем равен 25 минут, а стандартная ошибка (SD) равна 156. Мы предполагаем, что в новой версии таймспент на юзера в день изменится на 10%. Средний трафик 20000 человек в день. Посчитайте сколько дней необходимо держать эксперимент при alpha = 5% и beta = 20% .\n"
      ],
      "metadata": {
        "id": "kKIQrjScWUuY"
      }
    },
    {
      "cell_type": "code",
      "execution_count": 6,
      "metadata": {
        "id": "dHyLLfGGWS47"
      },
      "outputs": [],
      "source": [
        "import math\n",
        "from scipy.stats import norm"
      ]
    },
    {
      "cell_type": "code",
      "source": [
        "# Исходные данные\n",
        "current_spent_per_user = 25 # текущий таймспент на юзера в минутах\n",
        "sd = 156 #  стандартная ошибка (SD)\n",
        "daily_traffic = 20000 # средний трафик в день\n",
        "experiment_duration_days = 10 # предполагаемая длительность эксперимента в днях\n",
        "alpha = 0.05 # уровень значимости\n",
        "beta = 0.2 # статистическая мощность\n",
        "percent_change = 0.1 # предполагаемое изменение в таймспенте\n",
        "\n",
        "# Расчет необходимого размера выборки\n",
        "z_alpha = norm.ppf(1 - alpha/2)\n",
        "z_beta = norm.ppf(1 - beta)\n",
        "\n",
        "# Расчет размера выборки\n",
        "effect_size = current_spent_per_user * percent_change #минимальное заметное изменение\n",
        "sample_size = (2 * (z_alpha + z_beta)**2 * sd**2) / effect_size**2 #Необходимый размер выборки\n",
        "\n",
        "# Расчет общего объема данных (в днях)\n",
        "print(f\"Необходимый размер выборки: {math.ceil(sample_size)} пользователей.\")\n",
        "print(f\"Общий объем данных для эксперимента (в днях): {math.ceil(sample_size / daily_traffic)} .\")"
      ],
      "metadata": {
        "colab": {
          "base_uri": "https://localhost:8080/"
        },
        "id": "-wWLX6WBXbZv",
        "outputId": "1bf68cab-df22-4ceb-cdbb-6452c7e9314b"
      },
      "execution_count": 7,
      "outputs": [
        {
          "output_type": "stream",
          "name": "stdout",
          "text": [
            "Необходимый размер выборки: 61124 пользователей.\n",
            "Общий объем данных для эксперимента (в днях): 4 .\n"
          ]
        }
      ]
    },
    {
      "cell_type": "markdown",
      "source": [
        "## Задача 2\n",
        "Наша продуктовая команда в ecommerce магазине планирует запустить тест, направленный на ускорение загрузки сайта. Одна из основных метрик bounce rate в GA = 40%. Мы предполагаем, что при оптимизации сайта она изменится минимум на 20%.Средний трафик 4000 человек в день. Посчитайте сколько нам нужно дней держать эксперимент при alpha = 5% и beta = 20%\n",
        "\n"
      ],
      "metadata": {
        "id": "z9sDfa95cCbz"
      }
    },
    {
      "cell_type": "code",
      "source": [
        "# Исходные данные\n",
        "current_bounce_rate = 0.4 # текущий bounce rate\n",
        "daily_traffic = 4000 # средний трафик в день\n",
        "experiment_duration_days = 10 # предполагаемая длительность эксперимента в днях\n",
        "alpha = 0.05 # уровень значимости\n",
        "beta = 0.2 # статистическая мощность\n",
        "min_change = 0.2 # предполагаемое изменение в bounce rate\n",
        "\n",
        "# Расчет необходимого размера выборки\n",
        "z_alpha = norm.ppf(1 - alpha/2)\n",
        "z_beta = norm.ppf(1 - beta)\n",
        "\n",
        "# Расчет размера выборки\n",
        "p = current_bounce_rate\n",
        "delta = min_change\n",
        "sample_size = (2 * (z_alpha + z_beta)**2 * p * (1 - p)) / delta**2\n",
        "\n",
        "# Расчет общего объема данных (в днях)\n",
        "print(f\"Необходимый размер выборки: {math.ceil(sample_size)} пользователей.\")\n",
        "print(f\"Общий объем данных для эксперимента (в днях): {math.ceil(sample_size / daily_traffic)} .\")\n"
      ],
      "metadata": {
        "colab": {
          "base_uri": "https://localhost:8080/"
        },
        "id": "qjgMl2UscJAv",
        "outputId": "c10224b4-e676-47df-df54-263beb1cde67"
      },
      "execution_count": 9,
      "outputs": [
        {
          "output_type": "stream",
          "name": "stdout",
          "text": [
            "Необходимый размер выборки: 95 пользователей.\n",
            "Общий объем данных для эксперимента (в днях): 1 .\n"
          ]
        }
      ]
    }
  ]
}