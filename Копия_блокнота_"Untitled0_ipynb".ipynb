{
  "nbformat": 4,
  "nbformat_minor": 0,
  "metadata": {
    "colab": {
      "provenance": [],
      "authorship_tag": "ABX9TyNkqKEnkKc2n+TODDAtuCo6",
      "include_colab_link": true
    },
    "kernelspec": {
      "name": "python3",
      "display_name": "Python 3"
    },
    "language_info": {
      "name": "python"
    }
  },
  "cells": [
    {
      "cell_type": "markdown",
      "metadata": {
        "id": "view-in-github",
        "colab_type": "text"
      },
      "source": [
        "<a href=\"https://colab.research.google.com/github/kostikixum/DZ3/blob/main/%D0%9A%D0%BE%D0%BF%D0%B8%D1%8F_%D0%B1%D0%BB%D0%BE%D0%BA%D0%BD%D0%BE%D1%82%D0%B0_%22Untitled0_ipynb%22.ipynb\" target=\"_parent\"><img src=\"https://colab.research.google.com/assets/colab-badge.svg\" alt=\"Open In Colab\"/></a>"
      ]
    },
    {
      "cell_type": "markdown",
      "source": [
        "## Задача 1\n",
        "### Условие 2 Нужно написать функцию, которая на вход принимает любое количество названий фруктов и их количество, а возвращает общее количество фруктов на складе"
      ],
      "metadata": {
        "id": "KpB2OoXpT-sD"
      }
    },
    {
      "cell_type": "code",
      "source": [
        "def sclad(**kwargs):\n",
        "    {print(f\"Фрукт {name} в количестве {values} шт\")\n",
        "     for name, values in kwargs.items()}\n",
        "    return print(f'Общее количество фрутов: {sum(kwargs.values())}')\n",
        "\n",
        "sclad( orange = 15, appel = 32, lemon = 11)"
      ],
      "metadata": {
        "colab": {
          "base_uri": "https://localhost:8080/"
        },
        "id": "5-XVaL2zYwUv",
        "outputId": "85c024cd-ea18-41f5-e206-aa3dd48c70f1"
      },
      "execution_count": null,
      "outputs": [
        {
          "output_type": "stream",
          "name": "stdout",
          "text": [
            "Фрукт orange в количестве 15 шт\n",
            "Фрукт appel в количестве 32 шт\n",
            "Фрукт lemon в количестве 11 шт\n",
            "Общее количество фрутов: 58\n"
          ]
        }
      ]
    },
    {
      "cell_type": "markdown",
      "source": [
        "##Задача 1\n",
        "### Условие 3 :Дан список с затратами на рекламу. Но в данных есть ошибки, некоторые затраты имеют отрицательную величину. Удалите такие значения из списка и посчитайте суммарные затраты\n",
        "[100, 125, -90, 345, 655, -1, 0, 200]\n",
        "Используйте list comprehensions"
      ],
      "metadata": {
        "id": "DfWZaPjjbOfi"
      }
    },
    {
      "cell_type": "code",
      "source": [
        "list_cosst = [100, 125, -90, 345, 655, -1, 0, 200]\n",
        "position_cosst = [i for i in list_cosst if i > 0]\n",
        "print(f'Затраты на рекламу с положительными величинами {position_cosst}')\n",
        "f\"Суммарные затраты составляют: {sum(position_cosst)} \""
      ],
      "metadata": {
        "colab": {
          "base_uri": "https://localhost:8080/",
          "height": 53
        },
        "id": "ifa05_Y_bnyn",
        "outputId": "5c7cca98-8963-4d97-c8c6-c833c0566401"
      },
      "execution_count": null,
      "outputs": [
        {
          "output_type": "stream",
          "name": "stdout",
          "text": [
            "Затраты на рекламу с положительными величинами [100, 125, 345, 655, 200]\n"
          ]
        },
        {
          "output_type": "execute_result",
          "data": {
            "text/plain": [
              "'Суммарные затраты составляют: 1425 '"
            ],
            "application/vnd.google.colaboratory.intrinsic+json": {
              "type": "string"
            }
          },
          "metadata": {},
          "execution_count": 14
        }
      ]
    },
    {
      "cell_type": "markdown",
      "source": [
        "##Задача 4\n",
        "Даны два списка.\n",
        ">Дата покупки\n",
        "['2021-09-14', '2021-12-15', '2021-09-08', '2021-12-05', '2021-10-09', '2021-09-30', '2021-12-22', '2021-11-29', '2021-12-24', '2021-11-26', '2021-10-27', '2021-12-18', '2021-11-09', '2021-11-23', '2021-09-27', '2021-10-02', '2021-12-27', '2021-09-20', '2021-12-13', '2021-11-01', '2021-11-09', '2021-12-06', '2021-12-08', '2021-10-09', '2021-10-31', '2021-09-30', '2021-11-09', '2021-12-13', '2021-10-26', '2021-12-09']\n",
        "\n",
        ">Суммы покупок по датам\n",
        "[1270, 8413, 9028, 3703, 5739, 4095, 295, 4944, 5723, 3701, 4471, 651, 7037, 4274, 6275, 4988, 6930, 2971, 6592, 2004, 2822, 519, 3406, 2732, 5015, 2008, 316, 6333, 5700, 2887]\n",
        "### Условие 4.1 Найдите, какая выручка у компании в ноябре\n",
        "Используйте list comprehensions"
      ],
      "metadata": {
        "id": "4Z5TpCYHdD6B"
      }
    },
    {
      "cell_type": "code",
      "source": [
        "list_dates = ['2021-09-14', '2021-12-15', '2021-09-08', '2021-12-05', '2021-10-09', '2021-09-30', '2021-12-22', '2021-11-29', '2021-12-24', '2021-11-26', '2021-10-27', '2021-12-18', '2021-11-09', '2021-11-23', '2021-09-27',\n",
        "              '2021-10-02', '2021-12-27', '2021-09-20', '2021-12-13', '2021-11-01', '2021-11-09', '2021-12-06', '2021-12-08', '2021-10-09', '2021-10-31', '2021-09-30', '2021-11-09', '2021-12-13', '2021-10-26', '2021-12-09']\n",
        "amount_by_date = [1270, 8413, 9028, 3703, 5739, 4095, 295, 4944, 5723, 3701, 4471, 651, 7037, 4274,\n",
        "                  6275, 4988, 6930, 2971, 6592, 2004, 2822, 519, 3406, 2732, 5015, 2008, 316, 6333, 5700, 2887]\n",
        "list_Month = [i.split('-')[1] for i in list_dates]\n",
        "tuple_November_Revenue = [(f'Месяц {list_Month[i]}', f'выручка {amount_by_date[j]}')\n",
        "                          for i in range(len(list_Month))\n",
        "                          for j in range(len(amount_by_date))\n",
        "                          if i == j and list_Month[i] == '11']\n",
        "tuple_November_Revenue\n",
        "print(tuple_November_Revenue[0][0], f'выручка составило: {sum([amount for dates, amount in zip(list_dates, amount_by_date) if dates[5:7] == \"11\"])}')"
      ],
      "metadata": {
        "colab": {
          "base_uri": "https://localhost:8080/"
        },
        "id": "BgC_L99ndPSX",
        "outputId": "c19e676d-e801-4513-bcaf-f7ceb024fdca"
      },
      "execution_count": null,
      "outputs": [
        {
          "output_type": "stream",
          "name": "stdout",
          "text": [
            "Месяц 11 выручка составило: 25098\n"
          ]
        }
      ]
    },
    {
      "cell_type": "markdown",
      "source": [
        "### Условие 4.2 Найдите выручку компании в зависимости от месяца\n",
        "Для этого напишите функцию, которая на вход принимает список с датами и список с выручкой, а на выходе словарь, где ключи - это месяцы, а значения - это выручка.\n",
        "Используйте аннотирование типов."
      ],
      "metadata": {
        "id": "uSgpxLp5easp"
      }
    },
    {
      "cell_type": "code",
      "source": [
        "def revenue_by_month(list_date: list, list_revenue: list) -> dict:\n",
        "    # list_Month = [i.split('-')[1] for i in list_date]\n",
        "    # dict_Month = {list_date[i].split('-')[1] : list_revenue[j] for i in range(len(list_date)) for j in range(len(list_revenue)) if i == j}\n",
        "    dict_Month = {}\n",
        "    for i in range(len(list_date)):\n",
        "        if list_date[i].split('-')[1] in dict_Month.keys():\n",
        "            dict_Month[list_date[i].split('-')[1]] += list_revenue[i]\n",
        "        else:\n",
        "            dict_Month[list_date[i].split('-')[1]] = list_revenue[i]\n",
        "    return dict_Month\n",
        "revenue_by_month(list_dates, amount_by_date)"
      ],
      "metadata": {
        "colab": {
          "base_uri": "https://localhost:8080/"
        },
        "id": "JGOu20RwfYpx",
        "outputId": "6b904ca7-c350-4bad-c17c-f3cdb44a99ef"
      },
      "execution_count": null,
      "outputs": [
        {
          "output_type": "execute_result",
          "data": {
            "text/plain": [
              "{'09': 25647, '12': 45452, '10': 28645, '11': 25098}"
            ]
          },
          "metadata": {},
          "execution_count": 21
        }
      ]
    }
  ]
}